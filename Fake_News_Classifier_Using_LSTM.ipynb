{
  "nbformat": 4,
  "nbformat_minor": 0,
  "metadata": {
    "colab": {
      "name": " Fake News Classifier Using LSTM.ipynb",
      "provenance": [],
      "mount_file_id": "1rpTxlB1OCzy0B_ivaAqzZy4swkoPDuxf",
      "authorship_tag": "ABX9TyOuQwZX5uyKa+6XTRsTJHdM",
      "include_colab_link": true
    },
    "kernelspec": {
      "name": "python3",
      "display_name": "Python 3"
    },
    "language_info": {
      "name": "python"
    },
    "accelerator": "GPU"
  },
  "cells": [
    {
      "cell_type": "markdown",
      "metadata": {
        "id": "view-in-github",
        "colab_type": "text"
      },
      "source": [
        "<a href=\"https://colab.research.google.com/github/Rahulraj31/Fake-News-LSTM/blob/main/Fake_News_Classifier_Using_LSTM.ipynb\" target=\"_parent\"><img src=\"https://colab.research.google.com/assets/colab-badge.svg\" alt=\"Open In Colab\"/></a>"
      ]
    },
    {
      "cell_type": "markdown",
      "metadata": {
        "id": "oKntj4xnwmvS"
      },
      "source": [
        "\n",
        "# Fake News Classifier Using LSTM\n",
        "\n",
        "\n",
        "Dataset: https://www.kaggle.com/c/fake-news/data#"
      ]
    },
    {
      "cell_type": "code",
      "metadata": {
        "id": "MQD54apFw-ZL"
      },
      "source": [
        "import zipfile\n",
        "\n",
        "local_zip = '/content/drive/MyDrive/Colab Notebooks/fake-news.zip'\n",
        "zip_ref = zipfile.ZipFile(local_zip, 'r')\n",
        "zip_ref.extractall('/content')\n",
        "zip_ref.close()"
      ],
      "execution_count": 1,
      "outputs": []
    },
    {
      "cell_type": "code",
      "metadata": {
        "id": "LReMxHIcxRle"
      },
      "source": [
        "import pandas as pd\n",
        "df= pd.read_csv(\"/content/train.csv\")"
      ],
      "execution_count": 2,
      "outputs": []
    },
    {
      "cell_type": "code",
      "metadata": {
        "colab": {
          "base_uri": "https://localhost:8080/",
          "height": 203
        },
        "id": "psia8bH9xegb",
        "outputId": "02e526b5-3164-49e9-95e7-452d47d32ff9"
      },
      "source": [
        "df.head()"
      ],
      "execution_count": 3,
      "outputs": [
        {
          "output_type": "execute_result",
          "data": {
            "text/html": [
              "<div>\n",
              "<style scoped>\n",
              "    .dataframe tbody tr th:only-of-type {\n",
              "        vertical-align: middle;\n",
              "    }\n",
              "\n",
              "    .dataframe tbody tr th {\n",
              "        vertical-align: top;\n",
              "    }\n",
              "\n",
              "    .dataframe thead th {\n",
              "        text-align: right;\n",
              "    }\n",
              "</style>\n",
              "<table border=\"1\" class=\"dataframe\">\n",
              "  <thead>\n",
              "    <tr style=\"text-align: right;\">\n",
              "      <th></th>\n",
              "      <th>id</th>\n",
              "      <th>title</th>\n",
              "      <th>author</th>\n",
              "      <th>text</th>\n",
              "      <th>label</th>\n",
              "    </tr>\n",
              "  </thead>\n",
              "  <tbody>\n",
              "    <tr>\n",
              "      <th>0</th>\n",
              "      <td>0</td>\n",
              "      <td>House Dem Aide: We Didn’t Even See Comey’s Let...</td>\n",
              "      <td>Darrell Lucus</td>\n",
              "      <td>House Dem Aide: We Didn’t Even See Comey’s Let...</td>\n",
              "      <td>1</td>\n",
              "    </tr>\n",
              "    <tr>\n",
              "      <th>1</th>\n",
              "      <td>1</td>\n",
              "      <td>FLYNN: Hillary Clinton, Big Woman on Campus - ...</td>\n",
              "      <td>Daniel J. Flynn</td>\n",
              "      <td>Ever get the feeling your life circles the rou...</td>\n",
              "      <td>0</td>\n",
              "    </tr>\n",
              "    <tr>\n",
              "      <th>2</th>\n",
              "      <td>2</td>\n",
              "      <td>Why the Truth Might Get You Fired</td>\n",
              "      <td>Consortiumnews.com</td>\n",
              "      <td>Why the Truth Might Get You Fired October 29, ...</td>\n",
              "      <td>1</td>\n",
              "    </tr>\n",
              "    <tr>\n",
              "      <th>3</th>\n",
              "      <td>3</td>\n",
              "      <td>15 Civilians Killed In Single US Airstrike Hav...</td>\n",
              "      <td>Jessica Purkiss</td>\n",
              "      <td>Videos 15 Civilians Killed In Single US Airstr...</td>\n",
              "      <td>1</td>\n",
              "    </tr>\n",
              "    <tr>\n",
              "      <th>4</th>\n",
              "      <td>4</td>\n",
              "      <td>Iranian woman jailed for fictional unpublished...</td>\n",
              "      <td>Howard Portnoy</td>\n",
              "      <td>Print \\nAn Iranian woman has been sentenced to...</td>\n",
              "      <td>1</td>\n",
              "    </tr>\n",
              "  </tbody>\n",
              "</table>\n",
              "</div>"
            ],
            "text/plain": [
              "   id  ... label\n",
              "0   0  ...     1\n",
              "1   1  ...     0\n",
              "2   2  ...     1\n",
              "3   3  ...     1\n",
              "4   4  ...     1\n",
              "\n",
              "[5 rows x 5 columns]"
            ]
          },
          "metadata": {
            "tags": []
          },
          "execution_count": 3
        }
      ]
    },
    {
      "cell_type": "markdown",
      "metadata": {
        "id": "4QYbakjxxoYE"
      },
      "source": [
        "**1: unreliable**<br>\n",
        "\n",
        "**0: reliable**"
      ]
    },
    {
      "cell_type": "code",
      "metadata": {
        "colab": {
          "base_uri": "https://localhost:8080/"
        },
        "id": "ATK9rPDKy6hk",
        "outputId": "395daea4-3a95-4866-dcb1-560f2bc0a61f"
      },
      "source": [
        "df.shape"
      ],
      "execution_count": 4,
      "outputs": [
        {
          "output_type": "execute_result",
          "data": {
            "text/plain": [
              "(20800, 5)"
            ]
          },
          "metadata": {
            "tags": []
          },
          "execution_count": 4
        }
      ]
    },
    {
      "cell_type": "code",
      "metadata": {
        "colab": {
          "base_uri": "https://localhost:8080/"
        },
        "id": "04z6gspwxf6j",
        "outputId": "a94d1ef4-360e-4c97-9c54-1db218ff5402"
      },
      "source": [
        "df.isnull().sum()"
      ],
      "execution_count": 5,
      "outputs": [
        {
          "output_type": "execute_result",
          "data": {
            "text/plain": [
              "id           0\n",
              "title      558\n",
              "author    1957\n",
              "text        39\n",
              "label        0\n",
              "dtype: int64"
            ]
          },
          "metadata": {
            "tags": []
          },
          "execution_count": 5
        }
      ]
    },
    {
      "cell_type": "code",
      "metadata": {
        "id": "B2bWUS4Lx_WU"
      },
      "source": [
        "df=df.dropna()"
      ],
      "execution_count": 6,
      "outputs": []
    },
    {
      "cell_type": "code",
      "metadata": {
        "id": "uer89f1cyeKs"
      },
      "source": [
        "# Get the Independent and Dependent Features\n",
        "X=df.drop('label',axis=1)\n",
        "Y=df['label']"
      ],
      "execution_count": 7,
      "outputs": []
    },
    {
      "cell_type": "code",
      "metadata": {
        "colab": {
          "base_uri": "https://localhost:8080/"
        },
        "id": "DwGHqqInyqcT",
        "outputId": "854fa770-e9ca-49e4-f15c-6cd7054bb26d"
      },
      "source": [
        "X.shape,Y.shape"
      ],
      "execution_count": 8,
      "outputs": [
        {
          "output_type": "execute_result",
          "data": {
            "text/plain": [
              "((18285, 4), (18285,))"
            ]
          },
          "metadata": {
            "tags": []
          },
          "execution_count": 8
        }
      ]
    },
    {
      "cell_type": "code",
      "metadata": {
        "id": "rY7CdIzqy23a"
      },
      "source": [
        "from tensorflow.keras.layers import Embedding\n",
        "from tensorflow.keras.preprocessing.sequence import pad_sequences  #for proper same size input to embedding layer, same as widow in genshim\n",
        "from tensorflow.keras.models import Sequential\n",
        "from tensorflow.keras.preprocessing.text import one_hot\n",
        "from tensorflow.keras.layers import LSTM\n",
        "from tensorflow.keras.layers import Dense,Dropout"
      ],
      "execution_count": 9,
      "outputs": []
    },
    {
      "cell_type": "code",
      "metadata": {
        "id": "FzF_meKPzIBD"
      },
      "source": [
        "# vocabulary size\n",
        "voc_size =5000"
      ],
      "execution_count": 10,
      "outputs": []
    },
    {
      "cell_type": "markdown",
      "metadata": {
        "id": "XGdlEkjbzi7y"
      },
      "source": [
        "## One hot Representation\n"
      ]
    },
    {
      "cell_type": "code",
      "metadata": {
        "id": "hE2ffNWdzhAd"
      },
      "source": [
        "messages=X.copy()"
      ],
      "execution_count": 11,
      "outputs": []
    },
    {
      "cell_type": "code",
      "metadata": {
        "id": "DtTzowQUzvgL"
      },
      "source": [
        "messages.reset_index(inplace=True)"
      ],
      "execution_count": 12,
      "outputs": []
    },
    {
      "cell_type": "code",
      "metadata": {
        "id": "-X4RP8GOzw7S"
      },
      "source": [
        "import nltk\n",
        "import re\n",
        "from nltk.corpus import stopwords"
      ],
      "execution_count": 13,
      "outputs": []
    },
    {
      "cell_type": "code",
      "metadata": {
        "colab": {
          "base_uri": "https://localhost:8080/"
        },
        "id": "VOayfrir0OEC",
        "outputId": "acedd58b-3ac3-4fd7-c1a8-5b188f282331"
      },
      "source": [
        "nltk.download('stopwords')"
      ],
      "execution_count": 14,
      "outputs": [
        {
          "output_type": "stream",
          "text": [
            "[nltk_data] Downloading package stopwords to /root/nltk_data...\n",
            "[nltk_data]   Package stopwords is already up-to-date!\n"
          ],
          "name": "stdout"
        },
        {
          "output_type": "execute_result",
          "data": {
            "text/plain": [
              "True"
            ]
          },
          "metadata": {
            "tags": []
          },
          "execution_count": 14
        }
      ]
    },
    {
      "cell_type": "code",
      "metadata": {
        "id": "xGuJKBav0XX6"
      },
      "source": [
        "# Dataset preprocessing\n",
        "from nltk.stem.porter import PorterStemmer\n",
        "ps= PorterStemmer()\n",
        "corpus = []\n",
        "for i in range(0,len(messages)):\n",
        "  review=re.sub('[^a-zA-Z]',' ',messages[\"title\"][i]) #substitute everthing with blank apart from letters a-z and A-Z in title\n",
        "  \n",
        "  review =review.lower() #convert to lower case\n",
        "  \n",
        "  review=review.split() \n",
        "\n",
        "  review = [ps.stem(word) for word in review if not word in stopwords.words('english')] #stems words no present in stopword\n",
        "  review = ' '.join(review) #combining list of words to a list of sentences\n",
        "  corpus.append(review)\n",
        "  "
      ],
      "execution_count": 15,
      "outputs": []
    },
    {
      "cell_type": "code",
      "metadata": {
        "id": "hzXzgDTT3ehx"
      },
      "source": [
        "onehot_rep= [one_hot(words,voc_size) for words in corpus]"
      ],
      "execution_count": 16,
      "outputs": []
    },
    {
      "cell_type": "code",
      "metadata": {
        "colab": {
          "base_uri": "https://localhost:8080/"
        },
        "id": "ONy0scx831_B",
        "outputId": "cf399d66-bfb6-4317-ddfa-5f582ddfb127"
      },
      "source": [
        "# one hot for first 5 sentences\n",
        "onehot_rep[0:5]"
      ],
      "execution_count": 17,
      "outputs": [
        {
          "output_type": "execute_result",
          "data": {
            "text/plain": [
              "[[526, 1902, 3027, 1278, 4250, 3557, 2260, 73, 2124, 3784],\n",
              " [2897, 1113, 1163, 4081, 4330, 4419, 2778],\n",
              " [2149, 2218, 3497, 1515],\n",
              " [363, 3254, 2960, 2075, 3718, 4915],\n",
              " [3317, 4330, 2789, 1120, 2113, 2731, 4330, 1949, 3996, 3289]]"
            ]
          },
          "metadata": {
            "tags": []
          },
          "execution_count": 17
        }
      ]
    },
    {
      "cell_type": "markdown",
      "metadata": {
        "id": "17lsCiD54Vqy"
      },
      "source": [
        "## Embedding Representation"
      ]
    },
    {
      "cell_type": "code",
      "metadata": {
        "colab": {
          "base_uri": "https://localhost:8080/"
        },
        "id": "EVJw28x84B4h",
        "outputId": "b644d038-f916-4ff4-9523-9afe5d581ae6"
      },
      "source": [
        "sent_length =20\n",
        "embedded_docs=pad_sequences(onehot_rep,padding='pre',maxlen=sent_length)\n",
        "print(embedded_docs)"
      ],
      "execution_count": 18,
      "outputs": [
        {
          "output_type": "stream",
          "text": [
            "[[   0    0    0 ...   73 2124 3784]\n",
            " [   0    0    0 ... 4330 4419 2778]\n",
            " [   0    0    0 ... 2218 3497 1515]\n",
            " ...\n",
            " [   0    0    0 ... 1501 1886 2864]\n",
            " [   0    0    0 ... 4729  623 2748]\n",
            " [   0    0    0 ... 1707 4393 3302]]\n"
          ],
          "name": "stdout"
        }
      ]
    },
    {
      "cell_type": "code",
      "metadata": {
        "colab": {
          "base_uri": "https://localhost:8080/"
        },
        "id": "aYPJpI6i41o0",
        "outputId": "87381119-a85b-404a-fcfe-fbc95829496e"
      },
      "source": [
        "embedded_docs[1]"
      ],
      "execution_count": 19,
      "outputs": [
        {
          "output_type": "execute_result",
          "data": {
            "text/plain": [
              "array([   0,    0,    0,    0,    0,    0,    0,    0,    0,    0,    0,\n",
              "          0,    0, 2897, 1113, 1163, 4081, 4330, 4419, 2778], dtype=int32)"
            ]
          },
          "metadata": {
            "tags": []
          },
          "execution_count": 19
        }
      ]
    },
    {
      "cell_type": "code",
      "metadata": {
        "id": "Uzju9jeB5A7p"
      },
      "source": [
        "# creating model\n",
        "embedding_vector_features =40   #dimwnsion of feature vector of embedding \n",
        "model=Sequential()\n",
        "\n",
        "model.add(Embedding(voc_size,embedding_vector_features,input_length=sent_length))\n",
        "model.add(Dropout(0.5))\n",
        "model.add(LSTM(100))  # 1 layer 100 neuron\n",
        "model.add(Dropout(0.3))\n",
        "model.add(Dense(1,activation='sigmoid'))\n"
      ],
      "execution_count": 20,
      "outputs": []
    },
    {
      "cell_type": "code",
      "metadata": {
        "id": "x95pNzuk5bEd"
      },
      "source": [
        "model.compile(loss='binary_crossentropy',optimizer='adam',metrics=['accuracy'])"
      ],
      "execution_count": 21,
      "outputs": []
    },
    {
      "cell_type": "code",
      "metadata": {
        "colab": {
          "base_uri": "https://localhost:8080/"
        },
        "id": "Ourv7xqB59Ac",
        "outputId": "7aaf39ad-897c-4c5e-9343-7744fbe3c4a7"
      },
      "source": [
        "model.summary()"
      ],
      "execution_count": 22,
      "outputs": [
        {
          "output_type": "stream",
          "text": [
            "Model: \"sequential\"\n",
            "_________________________________________________________________\n",
            "Layer (type)                 Output Shape              Param #   \n",
            "=================================================================\n",
            "embedding (Embedding)        (None, 20, 40)            200000    \n",
            "_________________________________________________________________\n",
            "dropout (Dropout)            (None, 20, 40)            0         \n",
            "_________________________________________________________________\n",
            "lstm (LSTM)                  (None, 100)               56400     \n",
            "_________________________________________________________________\n",
            "dropout_1 (Dropout)          (None, 100)               0         \n",
            "_________________________________________________________________\n",
            "dense (Dense)                (None, 1)                 101       \n",
            "=================================================================\n",
            "Total params: 256,501\n",
            "Trainable params: 256,501\n",
            "Non-trainable params: 0\n",
            "_________________________________________________________________\n"
          ],
          "name": "stdout"
        }
      ]
    },
    {
      "cell_type": "code",
      "metadata": {
        "id": "My7-Kaz66AqA"
      },
      "source": [
        "import numpy as np\n",
        "X_final=np.array(embedded_docs)\n",
        "y_final=np.array(Y)"
      ],
      "execution_count": 23,
      "outputs": []
    },
    {
      "cell_type": "code",
      "metadata": {
        "id": "pJ3UGe9Z6039"
      },
      "source": [
        "from sklearn.model_selection import train_test_split\n",
        "X_train, X_val, y_train, y_val = train_test_split(X_final, y_final, test_size=0.33, random_state=42)\n"
      ],
      "execution_count": 24,
      "outputs": []
    },
    {
      "cell_type": "code",
      "metadata": {
        "colab": {
          "base_uri": "https://localhost:8080/"
        },
        "id": "qvZGIUSW7fq5",
        "outputId": "8c2dbe3c-3ce9-4e53-9766-83a0a38e6dfc"
      },
      "source": [
        "model.fit(X_train,y_train,validation_data=(X_val,y_val),epochs=10,batch_size=32)\n"
      ],
      "execution_count": 25,
      "outputs": [
        {
          "output_type": "stream",
          "text": [
            "Epoch 1/10\n",
            "383/383 [==============================] - 6s 9ms/step - loss: 0.2888 - accuracy: 0.8682 - val_loss: 0.2074 - val_accuracy: 0.9140\n",
            "Epoch 2/10\n",
            "383/383 [==============================] - 3s 7ms/step - loss: 0.1506 - accuracy: 0.9413 - val_loss: 0.1973 - val_accuracy: 0.9157\n",
            "Epoch 3/10\n",
            "383/383 [==============================] - 3s 8ms/step - loss: 0.1175 - accuracy: 0.9549 - val_loss: 0.2145 - val_accuracy: 0.9127\n",
            "Epoch 4/10\n",
            "383/383 [==============================] - 3s 7ms/step - loss: 0.0912 - accuracy: 0.9651 - val_loss: 0.2283 - val_accuracy: 0.9084\n",
            "Epoch 5/10\n",
            "383/383 [==============================] - 3s 7ms/step - loss: 0.0703 - accuracy: 0.9743 - val_loss: 0.2567 - val_accuracy: 0.9004\n",
            "Epoch 6/10\n",
            "383/383 [==============================] - 3s 8ms/step - loss: 0.0549 - accuracy: 0.9799 - val_loss: 0.3216 - val_accuracy: 0.9171\n",
            "Epoch 7/10\n",
            "383/383 [==============================] - 3s 7ms/step - loss: 0.0421 - accuracy: 0.9861 - val_loss: 0.3206 - val_accuracy: 0.9180\n",
            "Epoch 8/10\n",
            "383/383 [==============================] - 3s 8ms/step - loss: 0.0342 - accuracy: 0.9886 - val_loss: 0.3497 - val_accuracy: 0.9153\n",
            "Epoch 9/10\n",
            "383/383 [==============================] - 3s 7ms/step - loss: 0.0309 - accuracy: 0.9893 - val_loss: 0.3600 - val_accuracy: 0.9135\n",
            "Epoch 10/10\n",
            "383/383 [==============================] - 3s 8ms/step - loss: 0.0302 - accuracy: 0.9900 - val_loss: 0.4181 - val_accuracy: 0.9140\n"
          ],
          "name": "stdout"
        },
        {
          "output_type": "execute_result",
          "data": {
            "text/plain": [
              "<tensorflow.python.keras.callbacks.History at 0x7fc24068fe10>"
            ]
          },
          "metadata": {
            "tags": []
          },
          "execution_count": 25
        }
      ]
    },
    {
      "cell_type": "markdown",
      "metadata": {
        "id": "gnP5YH6N78JD"
      },
      "source": [
        "\n",
        "## Performance Metrics And Accuracy"
      ]
    },
    {
      "cell_type": "code",
      "metadata": {
        "colab": {
          "base_uri": "https://localhost:8080/"
        },
        "id": "yRHLWE1N7kc5",
        "outputId": "5010e9f7-a4b9-4109-d45c-f0dcbdc0357c"
      },
      "source": [
        "y_pred=model.predict_classes(X_val)"
      ],
      "execution_count": 26,
      "outputs": [
        {
          "output_type": "stream",
          "text": [
            "/usr/local/lib/python3.7/dist-packages/tensorflow/python/keras/engine/sequential.py:455: UserWarning: `model.predict_classes()` is deprecated and will be removed after 2021-01-01. Please use instead:* `np.argmax(model.predict(x), axis=-1)`,   if your model does multi-class classification   (e.g. if it uses a `softmax` last-layer activation).* `(model.predict(x) > 0.5).astype(\"int32\")`,   if your model does binary classification   (e.g. if it uses a `sigmoid` last-layer activation).\n",
            "  warnings.warn('`model.predict_classes()` is deprecated and '\n"
          ],
          "name": "stderr"
        }
      ]
    },
    {
      "cell_type": "code",
      "metadata": {
        "colab": {
          "base_uri": "https://localhost:8080/"
        },
        "id": "osdd1hOX8C3h",
        "outputId": "1094106e-d0dc-4afb-d753-4ea8502ef4db"
      },
      "source": [
        "from sklearn.metrics import confusion_matrix\n",
        "from sklearn.metrics import accuracy_score\n",
        "confusion_matrix(y_val,y_pred)"
      ],
      "execution_count": 27,
      "outputs": [
        {
          "output_type": "execute_result",
          "data": {
            "text/plain": [
              "array([[3096,  323],\n",
              "       [ 196, 2420]])"
            ]
          },
          "metadata": {
            "tags": []
          },
          "execution_count": 27
        }
      ]
    },
    {
      "cell_type": "code",
      "metadata": {
        "colab": {
          "base_uri": "https://localhost:8080/"
        },
        "id": "fmWXno2k8LiY",
        "outputId": "75aec6e3-ed6a-4bbb-860b-4cc3ab5004cd"
      },
      "source": [
        "accuracy_score(y_val,y_pred)"
      ],
      "execution_count": 28,
      "outputs": [
        {
          "output_type": "execute_result",
          "data": {
            "text/plain": [
              "0.9140016570008285"
            ]
          },
          "metadata": {
            "tags": []
          },
          "execution_count": 28
        }
      ]
    }
  ]
}