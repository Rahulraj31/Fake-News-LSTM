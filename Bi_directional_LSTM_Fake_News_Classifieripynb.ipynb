{
  "nbformat": 4,
  "nbformat_minor": 0,
  "metadata": {
    "colab": {
      "name": "Bi-directional  LSTM  Fake News Classifieripynb",
      "provenance": [],
      "mount_file_id": "1rpTxlB1OCzy0B_ivaAqzZy4swkoPDuxf",
      "authorship_tag": "ABX9TyMNaV8ajyrGlVccqbcU6Jpm",
      "include_colab_link": true
    },
    "kernelspec": {
      "name": "python3",
      "display_name": "Python 3"
    },
    "language_info": {
      "name": "python"
    },
    "accelerator": "GPU"
  },
  "cells": [
    {
      "cell_type": "markdown",
      "metadata": {
        "id": "view-in-github",
        "colab_type": "text"
      },
      "source": [
        "<a href=\"https://colab.research.google.com/github/Rahulraj31/Fake-News-LSTM/blob/main/Bi_directional_LSTM_Fake_News_Classifieripynb.ipynb\" target=\"_parent\"><img src=\"https://colab.research.google.com/assets/colab-badge.svg\" alt=\"Open In Colab\"/></a>"
      ]
    },
    {
      "cell_type": "markdown",
      "metadata": {
        "id": "oKntj4xnwmvS"
      },
      "source": [
        "\n",
        "# Fake News Classifier Using Bi- directional LSTM\n",
        "\n",
        "\n",
        "Dataset: https://www.kaggle.com/c/fake-news/data#"
      ]
    },
    {
      "cell_type": "code",
      "metadata": {
        "id": "MQD54apFw-ZL"
      },
      "source": [
        "import zipfile\n",
        "\n",
        "local_zip = '/content/drive/MyDrive/Colab Notebooks/fake-news.zip'\n",
        "zip_ref = zipfile.ZipFile(local_zip, 'r')\n",
        "zip_ref.extractall('/content')\n",
        "zip_ref.close()"
      ],
      "execution_count": 1,
      "outputs": []
    },
    {
      "cell_type": "code",
      "metadata": {
        "id": "LReMxHIcxRle"
      },
      "source": [
        "import pandas as pd\n",
        "df= pd.read_csv(\"/content/train.csv\")"
      ],
      "execution_count": 2,
      "outputs": []
    },
    {
      "cell_type": "code",
      "metadata": {
        "colab": {
          "base_uri": "https://localhost:8080/",
          "height": 203
        },
        "id": "psia8bH9xegb",
        "outputId": "76231a9a-e66a-455b-a695-305aadbda6c6"
      },
      "source": [
        "df.head()"
      ],
      "execution_count": 3,
      "outputs": [
        {
          "output_type": "execute_result",
          "data": {
            "text/html": [
              "<div>\n",
              "<style scoped>\n",
              "    .dataframe tbody tr th:only-of-type {\n",
              "        vertical-align: middle;\n",
              "    }\n",
              "\n",
              "    .dataframe tbody tr th {\n",
              "        vertical-align: top;\n",
              "    }\n",
              "\n",
              "    .dataframe thead th {\n",
              "        text-align: right;\n",
              "    }\n",
              "</style>\n",
              "<table border=\"1\" class=\"dataframe\">\n",
              "  <thead>\n",
              "    <tr style=\"text-align: right;\">\n",
              "      <th></th>\n",
              "      <th>id</th>\n",
              "      <th>title</th>\n",
              "      <th>author</th>\n",
              "      <th>text</th>\n",
              "      <th>label</th>\n",
              "    </tr>\n",
              "  </thead>\n",
              "  <tbody>\n",
              "    <tr>\n",
              "      <th>0</th>\n",
              "      <td>0</td>\n",
              "      <td>House Dem Aide: We Didn’t Even See Comey’s Let...</td>\n",
              "      <td>Darrell Lucus</td>\n",
              "      <td>House Dem Aide: We Didn’t Even See Comey’s Let...</td>\n",
              "      <td>1</td>\n",
              "    </tr>\n",
              "    <tr>\n",
              "      <th>1</th>\n",
              "      <td>1</td>\n",
              "      <td>FLYNN: Hillary Clinton, Big Woman on Campus - ...</td>\n",
              "      <td>Daniel J. Flynn</td>\n",
              "      <td>Ever get the feeling your life circles the rou...</td>\n",
              "      <td>0</td>\n",
              "    </tr>\n",
              "    <tr>\n",
              "      <th>2</th>\n",
              "      <td>2</td>\n",
              "      <td>Why the Truth Might Get You Fired</td>\n",
              "      <td>Consortiumnews.com</td>\n",
              "      <td>Why the Truth Might Get You Fired October 29, ...</td>\n",
              "      <td>1</td>\n",
              "    </tr>\n",
              "    <tr>\n",
              "      <th>3</th>\n",
              "      <td>3</td>\n",
              "      <td>15 Civilians Killed In Single US Airstrike Hav...</td>\n",
              "      <td>Jessica Purkiss</td>\n",
              "      <td>Videos 15 Civilians Killed In Single US Airstr...</td>\n",
              "      <td>1</td>\n",
              "    </tr>\n",
              "    <tr>\n",
              "      <th>4</th>\n",
              "      <td>4</td>\n",
              "      <td>Iranian woman jailed for fictional unpublished...</td>\n",
              "      <td>Howard Portnoy</td>\n",
              "      <td>Print \\nAn Iranian woman has been sentenced to...</td>\n",
              "      <td>1</td>\n",
              "    </tr>\n",
              "  </tbody>\n",
              "</table>\n",
              "</div>"
            ],
            "text/plain": [
              "   id  ... label\n",
              "0   0  ...     1\n",
              "1   1  ...     0\n",
              "2   2  ...     1\n",
              "3   3  ...     1\n",
              "4   4  ...     1\n",
              "\n",
              "[5 rows x 5 columns]"
            ]
          },
          "metadata": {
            "tags": []
          },
          "execution_count": 3
        }
      ]
    },
    {
      "cell_type": "markdown",
      "metadata": {
        "id": "4QYbakjxxoYE"
      },
      "source": [
        "**1: unreliable**<br>\n",
        "\n",
        "**0: reliable**"
      ]
    },
    {
      "cell_type": "code",
      "metadata": {
        "colab": {
          "base_uri": "https://localhost:8080/"
        },
        "id": "ATK9rPDKy6hk",
        "outputId": "d4824940-e9b6-49e7-f69e-d38d8e9b878a"
      },
      "source": [
        "df.shape"
      ],
      "execution_count": 4,
      "outputs": [
        {
          "output_type": "execute_result",
          "data": {
            "text/plain": [
              "(20800, 5)"
            ]
          },
          "metadata": {
            "tags": []
          },
          "execution_count": 4
        }
      ]
    },
    {
      "cell_type": "code",
      "metadata": {
        "colab": {
          "base_uri": "https://localhost:8080/"
        },
        "id": "04z6gspwxf6j",
        "outputId": "6aaa966d-a385-49dd-ec0d-1b5c93daa6da"
      },
      "source": [
        "df.isnull().sum()"
      ],
      "execution_count": 5,
      "outputs": [
        {
          "output_type": "execute_result",
          "data": {
            "text/plain": [
              "id           0\n",
              "title      558\n",
              "author    1957\n",
              "text        39\n",
              "label        0\n",
              "dtype: int64"
            ]
          },
          "metadata": {
            "tags": []
          },
          "execution_count": 5
        }
      ]
    },
    {
      "cell_type": "code",
      "metadata": {
        "id": "B2bWUS4Lx_WU"
      },
      "source": [
        "df=df.dropna()"
      ],
      "execution_count": 6,
      "outputs": []
    },
    {
      "cell_type": "code",
      "metadata": {
        "id": "uer89f1cyeKs"
      },
      "source": [
        "# Get the Independent and Dependent Features\n",
        "X=df.drop('label',axis=1)\n",
        "Y=df['label']"
      ],
      "execution_count": 7,
      "outputs": []
    },
    {
      "cell_type": "code",
      "metadata": {
        "colab": {
          "base_uri": "https://localhost:8080/"
        },
        "id": "DwGHqqInyqcT",
        "outputId": "cd086609-cfba-4839-bce8-7671069ae3e2"
      },
      "source": [
        "X.shape,Y.shape"
      ],
      "execution_count": 8,
      "outputs": [
        {
          "output_type": "execute_result",
          "data": {
            "text/plain": [
              "((18285, 4), (18285,))"
            ]
          },
          "metadata": {
            "tags": []
          },
          "execution_count": 8
        }
      ]
    },
    {
      "cell_type": "code",
      "metadata": {
        "id": "rY7CdIzqy23a"
      },
      "source": [
        "from tensorflow.keras.layers import Embedding\n",
        "from tensorflow.keras.preprocessing.sequence import pad_sequences  #for proper same size input to embedding layer, same as widow in genshim\n",
        "from tensorflow.keras.models import Sequential\n",
        "from tensorflow.keras.preprocessing.text import one_hot\n",
        "from tensorflow.keras.layers import LSTM\n",
        "from tensorflow.keras.layers import Bidirectional\n",
        "from tensorflow.keras.layers import Dense,Dropout"
      ],
      "execution_count": 27,
      "outputs": []
    },
    {
      "cell_type": "code",
      "metadata": {
        "id": "FzF_meKPzIBD"
      },
      "source": [
        "# vocabulary size\n",
        "voc_size =5000"
      ],
      "execution_count": 10,
      "outputs": []
    },
    {
      "cell_type": "markdown",
      "metadata": {
        "id": "XGdlEkjbzi7y"
      },
      "source": [
        "## One hot Representation\n"
      ]
    },
    {
      "cell_type": "code",
      "metadata": {
        "id": "hE2ffNWdzhAd"
      },
      "source": [
        "messages=X.copy()"
      ],
      "execution_count": 11,
      "outputs": []
    },
    {
      "cell_type": "code",
      "metadata": {
        "id": "DtTzowQUzvgL"
      },
      "source": [
        "messages.reset_index(inplace=True)"
      ],
      "execution_count": 12,
      "outputs": []
    },
    {
      "cell_type": "code",
      "metadata": {
        "id": "-X4RP8GOzw7S"
      },
      "source": [
        "import nltk\n",
        "import re\n",
        "from nltk.corpus import stopwords"
      ],
      "execution_count": 13,
      "outputs": []
    },
    {
      "cell_type": "code",
      "metadata": {
        "colab": {
          "base_uri": "https://localhost:8080/"
        },
        "id": "VOayfrir0OEC",
        "outputId": "84a23128-0b3f-4cb9-8407-7032e5218945"
      },
      "source": [
        "nltk.download('stopwords')"
      ],
      "execution_count": 14,
      "outputs": [
        {
          "output_type": "stream",
          "text": [
            "[nltk_data] Downloading package stopwords to /root/nltk_data...\n",
            "[nltk_data]   Unzipping corpora/stopwords.zip.\n"
          ],
          "name": "stdout"
        },
        {
          "output_type": "execute_result",
          "data": {
            "text/plain": [
              "True"
            ]
          },
          "metadata": {
            "tags": []
          },
          "execution_count": 14
        }
      ]
    },
    {
      "cell_type": "code",
      "metadata": {
        "id": "xGuJKBav0XX6"
      },
      "source": [
        "# Dataset preprocessing\n",
        "from nltk.stem.porter import PorterStemmer\n",
        "ps= PorterStemmer()\n",
        "corpus = []\n",
        "for i in range(0,len(messages)):\n",
        "  review=re.sub('[^a-zA-Z]',' ',messages[\"title\"][i]) #substitute everthing with blank apart from letters a-z and A-Z in title\n",
        "  \n",
        "  review =review.lower() #convert to lower case\n",
        "  \n",
        "  review=review.split() \n",
        "\n",
        "  review = [ps.stem(word) for word in review if not word in stopwords.words('english')] #stems words no present in stopword\n",
        "  review = ' '.join(review) #combining list of words to a list of sentences\n",
        "  corpus.append(review)\n",
        "  "
      ],
      "execution_count": 15,
      "outputs": []
    },
    {
      "cell_type": "code",
      "metadata": {
        "id": "hzXzgDTT3ehx"
      },
      "source": [
        "onehot_rep= [one_hot(words,voc_size) for words in corpus]"
      ],
      "execution_count": 16,
      "outputs": []
    },
    {
      "cell_type": "code",
      "metadata": {
        "colab": {
          "base_uri": "https://localhost:8080/"
        },
        "id": "ONy0scx831_B",
        "outputId": "4b545a59-6f73-40c8-82ad-95fc9465c730"
      },
      "source": [
        "# one hot for first 5 sentences\n",
        "onehot_rep[0:5]"
      ],
      "execution_count": 17,
      "outputs": [
        {
          "output_type": "execute_result",
          "data": {
            "text/plain": [
              "[[3314, 1460, 1045, 43, 4665, 2380, 4751, 4895, 2960, 583],\n",
              " [1794, 4921, 1478, 1706, 39, 1735, 2764],\n",
              " [4389, 3267, 1099, 441],\n",
              " [688, 4807, 2196, 1415, 3358, 1424],\n",
              " [58, 39, 2145, 373, 1532, 4072, 39, 2354, 1442, 406]]"
            ]
          },
          "metadata": {
            "tags": []
          },
          "execution_count": 17
        }
      ]
    },
    {
      "cell_type": "markdown",
      "metadata": {
        "id": "17lsCiD54Vqy"
      },
      "source": [
        "## Embedding Representation"
      ]
    },
    {
      "cell_type": "code",
      "metadata": {
        "colab": {
          "base_uri": "https://localhost:8080/"
        },
        "id": "EVJw28x84B4h",
        "outputId": "ff5fd2b1-dc13-4e07-a4b9-81d4c9d4c289"
      },
      "source": [
        "sent_length =20\n",
        "embedded_docs=pad_sequences(onehot_rep,padding='pre',maxlen=sent_length)\n",
        "print(embedded_docs)"
      ],
      "execution_count": 18,
      "outputs": [
        {
          "output_type": "stream",
          "text": [
            "[[   0    0    0 ... 4895 2960  583]\n",
            " [   0    0    0 ...   39 1735 2764]\n",
            " [   0    0    0 ... 3267 1099  441]\n",
            " ...\n",
            " [   0    0    0 ... 2794 4781 4843]\n",
            " [   0    0    0 ... 3316 4410 4761]\n",
            " [   0    0    0 ... 3874  464 4098]]\n"
          ],
          "name": "stdout"
        }
      ]
    },
    {
      "cell_type": "code",
      "metadata": {
        "colab": {
          "base_uri": "https://localhost:8080/"
        },
        "id": "aYPJpI6i41o0",
        "outputId": "a271cf4c-a214-4938-d9cb-333096e5874a"
      },
      "source": [
        "embedded_docs[1]"
      ],
      "execution_count": 19,
      "outputs": [
        {
          "output_type": "execute_result",
          "data": {
            "text/plain": [
              "array([   0,    0,    0,    0,    0,    0,    0,    0,    0,    0,    0,\n",
              "          0,    0, 1794, 4921, 1478, 1706,   39, 1735, 2764], dtype=int32)"
            ]
          },
          "metadata": {
            "tags": []
          },
          "execution_count": 19
        }
      ]
    },
    {
      "cell_type": "code",
      "metadata": {
        "id": "Uzju9jeB5A7p"
      },
      "source": [
        "# creating model\n",
        "embedding_vector_features =40   #dimwnsion of feature vector of embedding \n",
        "model=Sequential()\n",
        "\n",
        "model.add(Embedding(voc_size,embedding_vector_features,input_length=sent_length))\n",
        "model.add(Dropout(0.5))\n",
        "model.add(Bidirectional(LSTM(100)))  # 1 layer 100 neuron\n",
        "model.add(Dropout(0.3))\n",
        "model.add(Dense(1,activation='sigmoid'))\n"
      ],
      "execution_count": 28,
      "outputs": []
    },
    {
      "cell_type": "code",
      "metadata": {
        "id": "x95pNzuk5bEd"
      },
      "source": [
        "model.compile(loss='binary_crossentropy',optimizer='adam',metrics=['accuracy'])"
      ],
      "execution_count": 29,
      "outputs": []
    },
    {
      "cell_type": "code",
      "metadata": {
        "colab": {
          "base_uri": "https://localhost:8080/"
        },
        "id": "Ourv7xqB59Ac",
        "outputId": "e33caca2-92c3-4c17-b106-fb435f221904"
      },
      "source": [
        "model.summary()"
      ],
      "execution_count": 30,
      "outputs": [
        {
          "output_type": "stream",
          "text": [
            "Model: \"sequential_2\"\n",
            "_________________________________________________________________\n",
            "Layer (type)                 Output Shape              Param #   \n",
            "=================================================================\n",
            "embedding_2 (Embedding)      (None, 20, 40)            200000    \n",
            "_________________________________________________________________\n",
            "dropout_2 (Dropout)          (None, 20, 40)            0         \n",
            "_________________________________________________________________\n",
            "bidirectional (Bidirectional (None, 200)               112800    \n",
            "_________________________________________________________________\n",
            "dropout_3 (Dropout)          (None, 200)               0         \n",
            "_________________________________________________________________\n",
            "dense (Dense)                (None, 1)                 201       \n",
            "=================================================================\n",
            "Total params: 313,001\n",
            "Trainable params: 313,001\n",
            "Non-trainable params: 0\n",
            "_________________________________________________________________\n"
          ],
          "name": "stdout"
        }
      ]
    },
    {
      "cell_type": "code",
      "metadata": {
        "id": "My7-Kaz66AqA"
      },
      "source": [
        "import numpy as np\n",
        "X_final=np.array(embedded_docs)\n",
        "y_final=np.array(Y)"
      ],
      "execution_count": 31,
      "outputs": []
    },
    {
      "cell_type": "code",
      "metadata": {
        "id": "pJ3UGe9Z6039"
      },
      "source": [
        "from sklearn.model_selection import train_test_split\n",
        "X_train, X_val, y_train, y_val = train_test_split(X_final, y_final, test_size=0.33, random_state=42)\n"
      ],
      "execution_count": 32,
      "outputs": []
    },
    {
      "cell_type": "code",
      "metadata": {
        "colab": {
          "base_uri": "https://localhost:8080/"
        },
        "id": "qvZGIUSW7fq5",
        "outputId": "9c715406-ca55-46f1-f4a1-04174d7fcb7d"
      },
      "source": [
        "model.fit(X_train,y_train,validation_data=(X_val,y_val),epochs=10,batch_size=32)\n"
      ],
      "execution_count": 33,
      "outputs": [
        {
          "output_type": "stream",
          "text": [
            "Epoch 1/10\n",
            "383/383 [==============================] - 13s 11ms/step - loss: 0.2822 - accuracy: 0.8727 - val_loss: 0.2031 - val_accuracy: 0.9168\n",
            "Epoch 2/10\n",
            "383/383 [==============================] - 4s 9ms/step - loss: 0.1463 - accuracy: 0.9448 - val_loss: 0.2046 - val_accuracy: 0.9193\n",
            "Epoch 3/10\n",
            "383/383 [==============================] - 4s 9ms/step - loss: 0.1104 - accuracy: 0.9584 - val_loss: 0.1998 - val_accuracy: 0.9228\n",
            "Epoch 4/10\n",
            "383/383 [==============================] - 4s 10ms/step - loss: 0.0859 - accuracy: 0.9689 - val_loss: 0.2456 - val_accuracy: 0.9185\n",
            "Epoch 5/10\n",
            "383/383 [==============================] - 4s 9ms/step - loss: 0.0691 - accuracy: 0.9760 - val_loss: 0.2438 - val_accuracy: 0.9138\n",
            "Epoch 6/10\n",
            "383/383 [==============================] - 4s 9ms/step - loss: 0.0512 - accuracy: 0.9826 - val_loss: 0.2826 - val_accuracy: 0.9135\n",
            "Epoch 7/10\n",
            "383/383 [==============================] - 4s 9ms/step - loss: 0.0503 - accuracy: 0.9832 - val_loss: 0.2996 - val_accuracy: 0.9188\n",
            "Epoch 8/10\n",
            "383/383 [==============================] - 4s 9ms/step - loss: 0.0410 - accuracy: 0.9860 - val_loss: 0.2992 - val_accuracy: 0.9181\n",
            "Epoch 9/10\n",
            "383/383 [==============================] - 4s 9ms/step - loss: 0.0330 - accuracy: 0.9898 - val_loss: 0.3053 - val_accuracy: 0.9142\n",
            "Epoch 10/10\n",
            "383/383 [==============================] - 4s 9ms/step - loss: 0.0313 - accuracy: 0.9903 - val_loss: 0.3277 - val_accuracy: 0.9155\n"
          ],
          "name": "stdout"
        },
        {
          "output_type": "execute_result",
          "data": {
            "text/plain": [
              "<tensorflow.python.keras.callbacks.History at 0x7f13e6f821d0>"
            ]
          },
          "metadata": {
            "tags": []
          },
          "execution_count": 33
        }
      ]
    },
    {
      "cell_type": "markdown",
      "metadata": {
        "id": "gnP5YH6N78JD"
      },
      "source": [
        "\n",
        "## Performance Metrics And Accuracy"
      ]
    },
    {
      "cell_type": "code",
      "metadata": {
        "colab": {
          "base_uri": "https://localhost:8080/"
        },
        "id": "yRHLWE1N7kc5",
        "outputId": "2429ffe6-1613-467b-fff3-47541e65a51f"
      },
      "source": [
        "y_pred=model.predict_classes(X_val)"
      ],
      "execution_count": 34,
      "outputs": [
        {
          "output_type": "stream",
          "text": [
            "/usr/local/lib/python3.7/dist-packages/tensorflow/python/keras/engine/sequential.py:455: UserWarning: `model.predict_classes()` is deprecated and will be removed after 2021-01-01. Please use instead:* `np.argmax(model.predict(x), axis=-1)`,   if your model does multi-class classification   (e.g. if it uses a `softmax` last-layer activation).* `(model.predict(x) > 0.5).astype(\"int32\")`,   if your model does binary classification   (e.g. if it uses a `sigmoid` last-layer activation).\n",
            "  warnings.warn('`model.predict_classes()` is deprecated and '\n"
          ],
          "name": "stderr"
        }
      ]
    },
    {
      "cell_type": "code",
      "metadata": {
        "colab": {
          "base_uri": "https://localhost:8080/"
        },
        "id": "osdd1hOX8C3h",
        "outputId": "508d6947-a8cb-4dda-89f9-dbfec8f27e9e"
      },
      "source": [
        "from sklearn.metrics import confusion_matrix\n",
        "from sklearn.metrics import accuracy_score\n",
        "confusion_matrix(y_val,y_pred)"
      ],
      "execution_count": 35,
      "outputs": [
        {
          "output_type": "execute_result",
          "data": {
            "text/plain": [
              "array([[3088,  331],\n",
              "       [ 179, 2437]])"
            ]
          },
          "metadata": {
            "tags": []
          },
          "execution_count": 35
        }
      ]
    },
    {
      "cell_type": "code",
      "metadata": {
        "colab": {
          "base_uri": "https://localhost:8080/"
        },
        "id": "fmWXno2k8LiY",
        "outputId": "34d31456-2455-4265-9d13-20ddc59ba6de"
      },
      "source": [
        "accuracy_score(y_val,y_pred)"
      ],
      "execution_count": 36,
      "outputs": [
        {
          "output_type": "execute_result",
          "data": {
            "text/plain": [
              "0.9154929577464789"
            ]
          },
          "metadata": {
            "tags": []
          },
          "execution_count": 36
        }
      ]
    },
    {
      "cell_type": "code",
      "metadata": {
        "colab": {
          "base_uri": "https://localhost:8080/"
        },
        "id": "_JjYbNW6nsnK",
        "outputId": "5a58d646-6c79-4e34-f7d5-6acc76201b43"
      },
      "source": [
        "from sklearn.metrics import classification_report\n",
        "print(classification_report(y_val,y_pred))"
      ],
      "execution_count": 37,
      "outputs": [
        {
          "output_type": "stream",
          "text": [
            "              precision    recall  f1-score   support\n",
            "\n",
            "           0       0.95      0.90      0.92      3419\n",
            "           1       0.88      0.93      0.91      2616\n",
            "\n",
            "    accuracy                           0.92      6035\n",
            "   macro avg       0.91      0.92      0.91      6035\n",
            "weighted avg       0.92      0.92      0.92      6035\n",
            "\n"
          ],
          "name": "stdout"
        }
      ]
    }
  ]
}